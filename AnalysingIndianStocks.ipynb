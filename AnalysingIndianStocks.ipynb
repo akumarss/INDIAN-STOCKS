{
 "cells": [
  {
   "cell_type": "code",
   "execution_count": 1,
   "metadata": {
    "collapsed": true
   },
   "outputs": [],
   "source": [
    "import pandas as pd\n",
    "import numpy as np\n"
   ]
  },
  {
   "cell_type": "code",
   "execution_count": 2,
   "metadata": {
    "collapsed": true
   },
   "outputs": [],
   "source": [
    "unitech_df = pd.read_csv(\"UNITECH.csv\")\n",
    "beml_df = pd.read_csv(\"BEML.csv\")\n",
    "infy_df = pd.read_csv(\"INFY.csv\")\n",
    "glaxo_df = pd.read_csv(\"GLAXO.csv\")"
   ]
  },
  {
   "cell_type": "code",
   "execution_count": 3,
   "metadata": {},
   "outputs": [
    {
     "data": {
      "text/html": [
       "<div>\n",
       "<style>\n",
       "    .dataframe thead tr:only-child th {\n",
       "        text-align: right;\n",
       "    }\n",
       "\n",
       "    .dataframe thead th {\n",
       "        text-align: left;\n",
       "    }\n",
       "\n",
       "    .dataframe tbody tr th {\n",
       "        vertical-align: top;\n",
       "    }\n",
       "</style>\n",
       "<table border=\"1\" class=\"dataframe\">\n",
       "  <thead>\n",
       "    <tr style=\"text-align: right;\">\n",
       "      <th></th>\n",
       "      <th>Date</th>\n",
       "      <th>Open</th>\n",
       "      <th>High</th>\n",
       "      <th>Low</th>\n",
       "      <th>Last</th>\n",
       "      <th>Close</th>\n",
       "      <th>Total Trade Quantity</th>\n",
       "      <th>Turnover (Lacs)</th>\n",
       "    </tr>\n",
       "  </thead>\n",
       "  <tbody>\n",
       "    <tr>\n",
       "      <th>0</th>\n",
       "      <td>2010-01-04</td>\n",
       "      <td>82.9</td>\n",
       "      <td>83.80</td>\n",
       "      <td>82.45</td>\n",
       "      <td>82.80</td>\n",
       "      <td>82.80</td>\n",
       "      <td>19904383.0</td>\n",
       "      <td>16526.18</td>\n",
       "    </tr>\n",
       "    <tr>\n",
       "      <th>1</th>\n",
       "      <td>2010-01-05</td>\n",
       "      <td>83.5</td>\n",
       "      <td>84.90</td>\n",
       "      <td>83.40</td>\n",
       "      <td>84.00</td>\n",
       "      <td>84.10</td>\n",
       "      <td>34197626.0</td>\n",
       "      <td>28820.01</td>\n",
       "    </tr>\n",
       "    <tr>\n",
       "      <th>2</th>\n",
       "      <td>2010-01-06</td>\n",
       "      <td>84.5</td>\n",
       "      <td>85.45</td>\n",
       "      <td>83.20</td>\n",
       "      <td>84.70</td>\n",
       "      <td>84.85</td>\n",
       "      <td>34704003.0</td>\n",
       "      <td>29360.29</td>\n",
       "    </tr>\n",
       "    <tr>\n",
       "      <th>3</th>\n",
       "      <td>2010-01-07</td>\n",
       "      <td>85.2</td>\n",
       "      <td>85.70</td>\n",
       "      <td>83.85</td>\n",
       "      <td>84.15</td>\n",
       "      <td>84.15</td>\n",
       "      <td>28855332.0</td>\n",
       "      <td>24461.35</td>\n",
       "    </tr>\n",
       "    <tr>\n",
       "      <th>4</th>\n",
       "      <td>2010-01-08</td>\n",
       "      <td>84.0</td>\n",
       "      <td>87.50</td>\n",
       "      <td>84.00</td>\n",
       "      <td>86.60</td>\n",
       "      <td>86.60</td>\n",
       "      <td>49805151.0</td>\n",
       "      <td>43006.54</td>\n",
       "    </tr>\n",
       "  </tbody>\n",
       "</table>\n",
       "</div>"
      ],
      "text/plain": [
       "         Date  Open   High    Low   Last  Close  Total Trade Quantity  \\\n",
       "0  2010-01-04  82.9  83.80  82.45  82.80  82.80            19904383.0   \n",
       "1  2010-01-05  83.5  84.90  83.40  84.00  84.10            34197626.0   \n",
       "2  2010-01-06  84.5  85.45  83.20  84.70  84.85            34704003.0   \n",
       "3  2010-01-07  85.2  85.70  83.85  84.15  84.15            28855332.0   \n",
       "4  2010-01-08  84.0  87.50  84.00  86.60  86.60            49805151.0   \n",
       "\n",
       "   Turnover (Lacs)  \n",
       "0         16526.18  \n",
       "1         28820.01  \n",
       "2         29360.29  \n",
       "3         24461.35  \n",
       "4         43006.54  "
      ]
     },
     "execution_count": 3,
     "metadata": {},
     "output_type": "execute_result"
    }
   ],
   "source": [
    "unitech_df.head(5)"
   ]
  },
  {
   "cell_type": "code",
   "execution_count": 4,
   "metadata": {},
   "outputs": [
    {
     "data": {
      "text/html": [
       "<div>\n",
       "<style>\n",
       "    .dataframe thead tr:only-child th {\n",
       "        text-align: right;\n",
       "    }\n",
       "\n",
       "    .dataframe thead th {\n",
       "        text-align: left;\n",
       "    }\n",
       "\n",
       "    .dataframe tbody tr th {\n",
       "        vertical-align: top;\n",
       "    }\n",
       "</style>\n",
       "<table border=\"1\" class=\"dataframe\">\n",
       "  <thead>\n",
       "    <tr style=\"text-align: right;\">\n",
       "      <th></th>\n",
       "      <th>Date</th>\n",
       "      <th>Open</th>\n",
       "      <th>High</th>\n",
       "      <th>Low</th>\n",
       "      <th>Last</th>\n",
       "      <th>Close</th>\n",
       "      <th>Total Trade Quantity</th>\n",
       "      <th>Turnover (Lacs)</th>\n",
       "      <th>gain</th>\n",
       "    </tr>\n",
       "  </thead>\n",
       "  <tbody>\n",
       "    <tr>\n",
       "      <th>0</th>\n",
       "      <td>2010-01-04</td>\n",
       "      <td>82.9</td>\n",
       "      <td>83.80</td>\n",
       "      <td>82.45</td>\n",
       "      <td>82.80</td>\n",
       "      <td>82.80</td>\n",
       "      <td>19904383.0</td>\n",
       "      <td>16526.18</td>\n",
       "      <td>-0.00</td>\n",
       "    </tr>\n",
       "    <tr>\n",
       "      <th>1</th>\n",
       "      <td>2010-01-05</td>\n",
       "      <td>83.5</td>\n",
       "      <td>84.90</td>\n",
       "      <td>83.40</td>\n",
       "      <td>84.00</td>\n",
       "      <td>84.10</td>\n",
       "      <td>34197626.0</td>\n",
       "      <td>28820.01</td>\n",
       "      <td>0.01</td>\n",
       "    </tr>\n",
       "    <tr>\n",
       "      <th>2</th>\n",
       "      <td>2010-01-06</td>\n",
       "      <td>84.5</td>\n",
       "      <td>85.45</td>\n",
       "      <td>83.20</td>\n",
       "      <td>84.70</td>\n",
       "      <td>84.85</td>\n",
       "      <td>34704003.0</td>\n",
       "      <td>29360.29</td>\n",
       "      <td>0.00</td>\n",
       "    </tr>\n",
       "    <tr>\n",
       "      <th>3</th>\n",
       "      <td>2010-01-07</td>\n",
       "      <td>85.2</td>\n",
       "      <td>85.70</td>\n",
       "      <td>83.85</td>\n",
       "      <td>84.15</td>\n",
       "      <td>84.15</td>\n",
       "      <td>28855332.0</td>\n",
       "      <td>24461.35</td>\n",
       "      <td>-0.01</td>\n",
       "    </tr>\n",
       "    <tr>\n",
       "      <th>4</th>\n",
       "      <td>2010-01-08</td>\n",
       "      <td>84.0</td>\n",
       "      <td>87.50</td>\n",
       "      <td>84.00</td>\n",
       "      <td>86.60</td>\n",
       "      <td>86.60</td>\n",
       "      <td>49805151.0</td>\n",
       "      <td>43006.54</td>\n",
       "      <td>0.03</td>\n",
       "    </tr>\n",
       "  </tbody>\n",
       "</table>\n",
       "</div>"
      ],
      "text/plain": [
       "         Date  Open   High    Low   Last  Close  Total Trade Quantity  \\\n",
       "0  2010-01-04  82.9  83.80  82.45  82.80  82.80            19904383.0   \n",
       "1  2010-01-05  83.5  84.90  83.40  84.00  84.10            34197626.0   \n",
       "2  2010-01-06  84.5  85.45  83.20  84.70  84.85            34704003.0   \n",
       "3  2010-01-07  85.2  85.70  83.85  84.15  84.15            28855332.0   \n",
       "4  2010-01-08  84.0  87.50  84.00  86.60  86.60            49805151.0   \n",
       "\n",
       "   Turnover (Lacs)  gain  \n",
       "0         16526.18 -0.00  \n",
       "1         28820.01  0.01  \n",
       "2         29360.29  0.00  \n",
       "3         24461.35 -0.01  \n",
       "4         43006.54  0.03  "
      ]
     },
     "execution_count": 4,
     "metadata": {},
     "output_type": "execute_result"
    }
   ],
   "source": [
    "beml_df[\"gain\"] = beml_df.apply( lambda rec: round( ( rec.Close - rec.Open ) / rec.Open, 2 ), axis = 1 )\n",
    "infy_df[\"gain\"] = infy_df.apply( lambda rec: round( ( rec.Close - rec.Open ) / rec.Open, 2 ), axis = 1 )\n",
    "glaxo_df[\"gain\"] = glaxo_df.apply( lambda rec: round( ( rec.Close - rec.Open ) / rec.Open, 2 ), axis = 1 )\n",
    "unitech_df[\"gain\"] = unitech_df.apply(lambda rec: round((rec.Close - rec.Open)/rec.Open, 2), axis = 1 )\n",
    "unitech_df.head(5)"
   ]
  },
  {
   "cell_type": "code",
   "execution_count": 5,
   "metadata": {},
   "outputs": [],
   "source": [
    "import matplotlib.pyplot as plt\n",
    "import seaborn as sn\n",
    "%matplotlib inline"
   ]
  },
  {
   "cell_type": "code",
   "execution_count": 6,
   "metadata": {},
   "outputs": [
    {
     "data": {
      "text/plain": [
       "[<matplotlib.lines.Line2D at 0x1a14ce5ef0>]"
      ]
     },
     "execution_count": 6,
     "metadata": {},
     "output_type": "execute_result"
    },
    {
     "data": {
      "image/png": "[encoded data removed]",
      "text/plain": [
       "<matplotlib.figure.Figure at 0x10deb72e8>"
      ]
     },
     "metadata": {},
     "output_type": "display_data"
    }
   ],
   "source": [
    "plt.plot(unitech_df.Close, 'r')"
   ]
  },
  {
   "cell_type": "code",
   "execution_count": 7,
   "metadata": {},
   "outputs": [
    {
     "data": {
      "text/plain": [
       "[<matplotlib.lines.Line2D at 0x1a17ff4240>]"
      ]
     },
     "execution_count": 7,
     "metadata": {},
     "output_type": "execute_result"
    },
    {
     "data": {
      "image/png": "[encoded data removed]",
      "text/plain": [
       "<matplotlib.figure.Figure at 0x1a14cbb0b8>"
      ]
     },
     "metadata": {},
     "output_type": "display_data"
    }
   ],
   "source": [
    "unitech_df = unitech_df.set_index(pd.DatetimeIndex(unitech_df['Date']) )\n",
    "\n",
    "plt.plot(unitech_df.Close, 'r')\n"
   ]
  },
  {
   "cell_type": "code",
   "execution_count": 8,
   "metadata": {},
   "outputs": [
    {
     "data": {
      "text/plain": [
       "[<matplotlib.lines.Line2D at 0x1a180a60f0>]"
      ]
     },
     "execution_count": 8,
     "metadata": {},
     "output_type": "execute_result"
    },
    {
     "data": {
      "image/png": "[encoded data removed]",
      "text/plain": [
       "<matplotlib.figure.Figure at 0x1a17fec940>"
      ]
     },
     "metadata": {},
     "output_type": "display_data"
    }
   ],
   "source": [
    "plt.plot(unitech_df.gain, 'b')\n"
   ]
  },
  {
   "cell_type": "code",
   "execution_count": 9,
   "metadata": {},
   "outputs": [
    {
     "data": {
      "text/plain": [
       "<matplotlib.axes._subplots.AxesSubplot at 0x1a1805bdd8>"
      ]
     },
     "execution_count": 9,
     "metadata": {},
     "output_type": "execute_result"
    },
    {
     "data": {
      "image/png": "[encoded data removed]",
      "text/plain": [
       "<matplotlib.figure.Figure at 0x1a180bdba8>"
      ]
     },
     "metadata": {},
     "output_type": "display_data"
    }
   ],
   "source": [
    "sn.distplot(unitech_df.gain, color = 'b')"
   ]
  },
  {
   "cell_type": "code",
   "execution_count": 10,
   "metadata": {},
   "outputs": [
    {
     "data": {
      "text/plain": [
       "count    1739.000000\n",
       "mean       -0.003191\n",
       "std         0.038511\n",
       "min        -0.360000\n",
       "25%        -0.020000\n",
       "50%         0.000000\n",
       "75%         0.020000\n",
       "max         0.220000\n",
       "Name: gain, dtype: float64"
      ]
     },
     "execution_count": 10,
     "metadata": {},
     "output_type": "execute_result"
    }
   ],
   "source": [
    "unitech_df.gain.describe()"
   ]
  },
  {
   "cell_type": "code",
   "execution_count": 11,
   "metadata": {},
   "outputs": [
    {
     "data": {
      "text/plain": [
       "<matplotlib.axes._subplots.AxesSubplot at 0x1a18177d30>"
      ]
     },
     "execution_count": 11,
     "metadata": {},
     "output_type": "execute_result"
    },
    {
     "data": {
      "image/png": "[encoded data removed]",
      "text/plain": [
       "<matplotlib.figure.Figure at 0x1a1830ee48>"
      ]
     },
     "metadata": {},
     "output_type": "display_data"
    }
   ],
   "source": [
    "sn.boxplot(unitech_df.gain)"
   ]
  },
  {
   "cell_type": "code",
   "execution_count": 12,
   "metadata": {},
   "outputs": [
    {
     "data": {
      "text/plain": [
       "<matplotlib.axes._subplots.AxesSubplot at 0x1a183fb438>"
      ]
     },
     "execution_count": 12,
     "metadata": {},
     "output_type": "execute_result"
    },
    {
     "data": {
      "image/png": "[encoded data removed]",
      "text/plain": [
       "<matplotlib.figure.Figure at 0x1a1832c438>"
      ]
     },
     "metadata": {},
     "output_type": "display_data"
    }
   ],
   "source": [
    "sn.set(rc={\"figure.figsize\": (10, 6)});\n",
    "sn.distplot( unitech_df.gain, hist = False, color = 'g' )\n",
    "sn.distplot( glaxo_df.gain, hist = False, color = 'b' )\n",
    "sn.distplot( infy_df.gain, hist = False, color = 'r' )\n",
    "sn.distplot( beml_df.gain, hist = False, color = 'y' )"
   ]
  },
  {
   "cell_type": "code",
   "execution_count": 13,
   "metadata": {
    "collapsed": true
   },
   "outputs": [],
   "source": [
    "\n",
    "\n",
    "from scipy import stats\n"
   ]
  },
  {
   "cell_type": "code",
   "execution_count": 14,
   "metadata": {
    "collapsed": true
   },
   "outputs": [],
   "source": [
    "unitech_95_ci = stats.norm.interval(0.95, loc = unitech_df.gain.mean(), scale=unitech_df.gain.std())"
   ]
  },
  {
   "cell_type": "code",
   "execution_count": 15,
   "metadata": {},
   "outputs": [
    {
     "data": {
      "text/plain": [
       "(-0.078671141686216306, 0.072288162962812069)"
      ]
     },
     "execution_count": 15,
     "metadata": {},
     "output_type": "execute_result"
    }
   ],
   "source": [
    "unitech_95_ci"
   ]
  },
  {
   "cell_type": "code",
   "execution_count": 16,
   "metadata": {},
   "outputs": [
    {
     "data": {
      "text/plain": [
       "0.33125041931711174"
      ]
     },
     "execution_count": 16,
     "metadata": {},
     "output_type": "execute_result"
    }
   ],
   "source": [
    "stats.norm.cdf(-0.02, loc = unitech_df.gain.mean(), scale=unitech_df.gain.std())"
   ]
  },
  {
   "cell_type": "code",
   "execution_count": null,
   "metadata": {
    "collapsed": true
   },
   "outputs": [],
   "source": []
  }
 ],
 "metadata": {
  "kernelspec": {
   "display_name": "Python 3",
   "language": "python",
   "name": "python3"
  },
  "language_info": {
   "codemirror_mode": {
    "name": "ipython",
    "version": 3
   },
   "file_extension": ".py",
   "mimetype": "text/x-python",
   "name": "python",
   "nbconvert_exporter": "python",
   "pygments_lexer": "ipython3",
   "version": "3.6.3"
  }
 },
 "nbformat": 4,
 "nbformat_minor": 2
}
